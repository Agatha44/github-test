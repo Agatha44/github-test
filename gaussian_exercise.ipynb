{
  "nbformat": 4,
  "nbformat_minor": 0,
  "metadata": {
    "colab": {
      "name": "Untitled6.ipynb",
      "provenance": [],
      "authorship_tag": "ABX9TyMvCdZaW0GCHcUHU93L9/b7",
      "include_colab_link": true
    },
    "kernelspec": {
      "name": "python3",
      "display_name": "Python 3"
    },
    "language_info": {
      "name": "python"
    }
  },
  "cells": [
    {
      "cell_type": "markdown",
      "metadata": {
        "id": "view-in-github",
        "colab_type": "text"
      },
      "source": [
        "<a href=\"https://colab.research.google.com/github/Agatha44/github-test/blob/main/gaussian_exercise.ipynb\" target=\"_parent\"><img src=\"https://colab.research.google.com/assets/colab-badge.svg\" alt=\"Open In Colab\"/></a>"
      ]
    },
    {
      "cell_type": "code",
      "execution_count": 1,
      "metadata": {
        "id": "OvoAPhNlsgDY"
      },
      "outputs": [],
      "source": [
        "import math\n",
        "import matplotlib .pyplot as plt"
      ]
    },
    {
      "cell_type": "code",
      "source": [
        "class Gaussian():\n",
        "  def __init__(self, mu=0, sigma=1):\n",
        "    self.mean=mu\n",
        "    self.stdev=sigma\n",
        "    self.data=[]"
      ],
      "metadata": {
        "id": "8LRlVfm6tdXJ"
      },
      "execution_count": 2,
      "outputs": []
    },
    {
      "cell_type": "code",
      "source": [
        "def calculate_mean(self):\n",
        "  avg=1.0*sum(self.data)/len(self.data)\n",
        "  self.mean=avg\n",
        "  return self.mean"
      ],
      "metadata": {
        "id": "gLifdl1qu3E6"
      },
      "execution_count": 3,
      "outputs": []
    },
    {
      "cell_type": "code",
      "source": [
        "def calculate_stdev(self,sample=True):\n",
        "  if sample:\n",
        "    n=len(self.data)-1\n",
        "  else:\n",
        "      n=len(self.data)\n",
        "  mean=self.mean\n",
        "  sigma=0\n",
        "  for d in self.data:\n",
        "    sigma +=(d-mean)**2\n",
        "    sigma =math.sqrt(sigma/n)\n",
        "    self.stdev =sigma\n",
        "    return self.stdev\n",
        "\n"
      ],
      "metadata": {
        "id": "2HUjJZ9V2W7M"
      },
      "execution_count": 4,
      "outputs": []
    },
    {
      "cell_type": "code",
      "source": [
        " def read_data_file(self, file_name, sample=True):\n",
        "     with open(file_name) as file:\n",
        "          data_list = []\n",
        "          line = file.readline()\n",
        "          while line:\n",
        "                data_list.append(int(line))\n",
        "                line = file.readline()\n",
        "     file.close()\n",
        "    \n",
        "     self.data = data_list\n",
        "     self.mean = self.calculate_mean()\n",
        "     self.stdev = self.calculate_stdev(sample)\n",
        "        "
      ],
      "metadata": {
        "id": "Mq7DlkyJ7WKm"
      },
      "execution_count": 7,
      "outputs": []
    },
    {
      "cell_type": "code",
      "source": [
        "def plot_histogram(self):\n",
        "   plt.hist(self.data)\n",
        "   plt.title('Histogram of Data')\n",
        "   plt.xlabel('data')\n",
        "   plt.ylabel('count')"
      ],
      "metadata": {
        "id": "lANyGY8RH3U6"
      },
      "execution_count": 8,
      "outputs": []
    }
  ]
}