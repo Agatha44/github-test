{
  "nbformat": 4,
  "nbformat_minor": 0,
  "metadata": {
    "colab": {
      "name": "Inheritance.ipynb",
      "provenance": [],
      "authorship_tag": "ABX9TyNxvsG4TOr450LxoMCyut7S",
      "include_colab_link": true
    },
    "kernelspec": {
      "name": "python3",
      "display_name": "Python 3"
    },
    "language_info": {
      "name": "python"
    }
  },
  "cells": [
    {
      "cell_type": "markdown",
      "metadata": {
        "id": "view-in-github",
        "colab_type": "text"
      },
      "source": [
        "<a href=\"https://colab.research.google.com/github/Agatha44/github-test/blob/main/Inheritance.ipynb\" target=\"_parent\"><img src=\"https://colab.research.google.com/assets/colab-badge.svg\" alt=\"Open In Colab\"/></a>"
      ]
    },
    {
      "cell_type": "code",
      "execution_count": 1,
      "metadata": {
        "id": "ItLgM9gpM1GO"
      },
      "outputs": [],
      "source": [
        "class Clothing:\n",
        "\n",
        "    def __init__(self, color, size, style, price):\n",
        "        self.color = color\n",
        "        self.size = size\n",
        "        self.style = style\n",
        "        self.price = price\n",
        "        \n",
        "    def change_price(self, price):\n",
        "        self.price = price\n",
        "        \n",
        "    def calculate_discount(self, discount):\n",
        "        return self.price * (1 - discount)\n",
        "\n",
        "    def calculate_shipping(self,weight,rate):\n",
        "        return weight*rate\n",
        "        \n",
        "class Shirt(Clothing):\n",
        "    \n",
        "    def __init__(self, color, size, style, price, long_or_short):\n",
        "        \n",
        "        Clothing.__init__(self, color, size, style, price)\n",
        "        self.long_or_short = long_or_short\n",
        "    \n",
        "    def double_price(self):\n",
        "        self.price = 2*self.price\n",
        "    \n",
        "class Pants(Clothing):\n",
        "\n",
        "    def __init__(self, color, size, style, price, waist):\n",
        "        \n",
        "        Clothing.__init__(self, color, size, style, price)\n",
        "        self.waist = waist\n",
        "        \n",
        "    def calculate_discount(self, discount):\n",
        "        return self.price * (1 - discount / 2)\n",
        "    \n",
        "# TODO: Write a class called Blouse, that inherits from the Clothing class\n",
        "# and has the the following attributes and methods:\n",
        "#   attributes: color, size, style, price, country_of_origin\n",
        "#     where country_of_origin is a string that holds the name of a \n",
        "#     country\n",
        "#\n",
        "#   methods: triple_price, which has no inputs and returns three times\n",
        "#     the price of the blouse\n",
        "#\n",
        "#\n",
        "\n",
        "# TODO: Add a method to the clothing class called calculate_shipping.\n",
        "#   The method has two inputs: weight and rate. Weight is a float\n",
        "#   representing the weight of the article of clothing. Rate is a float\n",
        "#   representing the shipping weight. The method returns weight * rate\n"
      ]
    },
    {
      "cell_type": "code",
      "source": [
        "class Blouse(Clothing):\n",
        "  def _init_(self,color,size,style,price,country_origin):\n",
        "    Clothing._init_(self,color,size,style,price)\n",
        "    self.country_origin=country_origin\n",
        "\n",
        "    def tripple_price(self):\n",
        "        self.price=3*self.price\n",
        "\n",
        "     "
      ],
      "metadata": {
        "id": "4fRwmvnqNjnP"
      },
      "execution_count": 2,
      "outputs": []
    }
  ]
}